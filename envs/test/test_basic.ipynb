{
 "cells": [
  {
   "cell_type": "code",
   "execution_count": null,
   "metadata": {},
   "outputs": [],
   "source": [
    "%load_ext autoreload\n",
    "%autoreload 2\n",
    "\n",
    "import os\n",
    "os.environ['CUDA_VISIBLE_DEVICES'] = '1'"
   ]
  },
  {
   "cell_type": "code",
   "execution_count": null,
   "metadata": {},
   "outputs": [],
   "source": [
    "from llm.envs.plb import MultiToolEnv\n",
    "env = MultiToolEnv()"
   ]
  },
  {
   "cell_type": "code",
   "execution_count": null,
   "metadata": {},
   "outputs": [],
   "source": [
    "# sanity check for gradient \n",
    "# first ten step gradient equals to the gradient with loss at the fifth step and the gradient at 5.\n",
    "import numpy as np\n",
    "\n",
    "from llm.envs.world_state import WorldState\n",
    "from llm.envs.test_utils import init_scene\n",
    "\n",
    "init_scene(env, 0)\n",
    "state = env.get_state()\n",
    "env.render('plt')"
   ]
  },
  {
   "cell_type": "code",
   "execution_count": null,
   "metadata": {},
   "outputs": [],
   "source": [
    "from llm.envs.test_utils import execute_traj\n",
    "from tools.utils import animate\n",
    "\n",
    "images = execute_traj(env, state, 'Gripper', 1)\n",
    "print(env._idx)\n",
    "images2= execute_traj(env, state, 'Gripper', 1, requires_grad=True)\n",
    "print(env._idx)\n",
    "\n",
    "images = [np.concatenate((a, b), axis=1) for a, b in zip(images, images2)]\n",
    "\n",
    "animate(images)"
   ]
  },
  {
   "cell_type": "code",
   "execution_count": null,
   "metadata": {},
   "outputs": [],
   "source": [
    "import tqdm\n",
    "print(state.rigid_bodies)\n",
    "env.set_state(state)\n",
    "for i in tqdm.trange(1000):\n",
    "    env.step(env.action_space.sample())"
   ]
  },
  {
   "cell_type": "code",
   "execution_count": null,
   "metadata": {},
   "outputs": [],
   "source": [
    "print(env.get_state().n)\n",
    "print(env.simulator.substeps)"
   ]
  }
 ],
 "metadata": {
  "kernelspec": {
   "display_name": "Python 3.8.12",
   "language": "python",
   "name": "python3"
  },
  "language_info": {
   "codemirror_mode": {
    "name": "ipython",
    "version": 3
   },
   "file_extension": ".py",
   "mimetype": "text/x-python",
   "name": "python",
   "nbconvert_exporter": "python",
   "pygments_lexer": "ipython3",
   "version": "3.8.12"
  },
  "orig_nbformat": 4,
  "vscode": {
   "interpreter": {
    "hash": "341759b73095ff04a81eea761da95edf1f6c3c823831226adf9c9f44e7b5b37c"
   }
  }
 },
 "nbformat": 4,
 "nbformat_minor": 2
}
