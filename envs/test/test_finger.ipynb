{
 "cells": [
  {
   "cell_type": "code",
   "execution_count": null,
   "metadata": {},
   "outputs": [],
   "source": [
    "%load_ext autoreload\n",
    "%autoreload 2"
   ]
  },
  {
   "cell_type": "code",
   "execution_count": null,
   "metadata": {},
   "outputs": [],
   "source": [
    "from llm.envs import MultiToolEnv, WorldState\n",
    "from llm.envs.test_utils import init_scene\n",
    "env = MultiToolEnv(sim_cfg=dict(max_steps=1024))\n",
    "\n",
    "\n",
    "scene = init_scene(env, 0)\n",
    "\n",
    "state = env.get_state()\n",
    "\n"
   ]
  },
  {
   "cell_type": "code",
   "execution_count": null,
   "metadata": {},
   "outputs": [],
   "source": [
    "\n",
    "state = state.switch_tools('Fingers')\n",
    "env.set_state(state)\n",
    "env.render('plt')"
   ]
  },
  {
   "cell_type": "code",
   "execution_count": null,
   "metadata": {},
   "outputs": [],
   "source": [
    "from tools.utils import animate\n",
    "print(env.action_space)\n",
    "env.set_state(state)\n",
    "\n",
    "images = []\n",
    "for i in range(100):\n",
    "    env.step(env.action_space.sample())\n",
    "    images.append(env.render('rgb_array', spp=1))\n",
    "\n",
    "animate(images)"
   ]
  }
 ],
 "metadata": {
  "kernelspec": {
   "display_name": "Python 3.9.12 ('base')",
   "language": "python",
   "name": "python3"
  },
  "language_info": {
   "codemirror_mode": {
    "name": "ipython",
    "version": 3
   },
   "file_extension": ".py",
   "mimetype": "text/x-python",
   "name": "python",
   "nbconvert_exporter": "python",
   "pygments_lexer": "ipython3",
   "version": "3.9.12"
  },
  "orig_nbformat": 4,
  "vscode": {
   "interpreter": {
    "hash": "24236117ad173cc854a0dd25003fea5af2f1994b54cc411799a7839c458fe3be"
   }
  }
 },
 "nbformat": 4,
 "nbformat_minor": 2
}
