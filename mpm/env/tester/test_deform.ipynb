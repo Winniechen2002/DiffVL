{
 "cells": [
  {
   "cell_type": "code",
   "execution_count": null,
   "metadata": {},
   "outputs": [],
   "source": [
    "%load_ext autoreload\n",
    "%autoreload 2"
   ]
  },
  {
   "cell_type": "code",
   "execution_count": null,
   "metadata": {},
   "outputs": [],
   "source": [
    "from diffrl.env import env_hubs\n",
    "\n",
    "env, state = env_hubs.comp_env()"
   ]
  },
  {
   "cell_type": "code",
   "execution_count": null,
   "metadata": {},
   "outputs": [],
   "source": [
    "env.render('plt')"
   ]
  },
  {
   "cell_type": "code",
   "execution_count": null,
   "metadata": {},
   "outputs": [],
   "source": [
    "import numpy as np\n",
    "from diffrl.manual import init_shape\n",
    "env.manipulator.switch_type(1)\n",
    "\n",
    "init_shape(\n",
    "    env, \n",
    "    {\n",
    "        'width':  (0.3, 0.1, 0.3),\n",
    "        'color': [170, 170, 30],\n",
    "        'method': 'box',\n",
    "        'center': (0.5, 0.03 + 0.1, 0.5),\n",
    "        # 'n': 1000,\n",
    "    }\n",
    ")\n",
    "state = env.get_state()\n",
    "env.render('plt')"
   ]
  },
  {
   "cell_type": "code",
   "execution_count": null,
   "metadata": {},
   "outputs": [],
   "source": [
    "init_shape( env, {'args':  (0.15, 0.1),'color': [170, 170, 30], 'method': 'cylinder', 'center': (0.5, 0.03 + 0.1, 0.5),})\n",
    "goal = env.get_state()['particles'][0]"
   ]
  },
  {
   "cell_type": "code",
   "execution_count": null,
   "metadata": {},
   "outputs": [],
   "source": [
    "from diffrl.env import GoalReach\n",
    "\n",
    "task = GoalReach(state, goal)\n",
    "task.reset(env)\n",
    "env.render('plt')\n",
    "task.render_goal('plt')"
   ]
  }
 ],
 "metadata": {
  "interpreter": {
   "hash": "24236117ad173cc854a0dd25003fea5af2f1994b54cc411799a7839c458fe3be"
  },
  "kernelspec": {
   "display_name": "Python 3.7.3 ('base')",
   "language": "python",
   "name": "python3"
  },
  "language_info": {
   "codemirror_mode": {
    "name": "ipython",
    "version": 3
   },
   "file_extension": ".py",
   "mimetype": "text/x-python",
   "name": "python",
   "nbconvert_exporter": "python",
   "pygments_lexer": "ipython3",
   "version": "3.7.3"
  },
  "orig_nbformat": 4
 },
 "nbformat": 4,
 "nbformat_minor": 2
}
