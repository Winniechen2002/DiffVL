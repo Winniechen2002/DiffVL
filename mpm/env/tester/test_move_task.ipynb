{
 "cells": [
  {
   "cell_type": "code",
   "execution_count": 1,
   "metadata": {
    "pycharm": {
     "name": "#%%\n"
    }
   },
   "outputs": [],
   "source": [
    "%load_ext autoreload\n",
    "%autoreload 2\n",
    "\n",
    "import os\n",
    "os.environ['CUDA_VISIBLE_DEVICES'] = '1'"
   ]
  },
  {
   "cell_type": "code",
   "execution_count": 2,
   "metadata": {
    "pycharm": {
     "name": "#%%\n"
    }
   },
   "outputs": [
    {
     "name": "stdout",
     "output_type": "stream",
     "text": [
      "[Taichi] mode=release\n",
      "[Taichi] preparing sandbox at /tmp/taichi-y5kevpun\n",
      "[Taichi] version 0.7.26, llvm 10.0.0, commit e37bdb5e, linux, python 3.7.3\n",
      "[I 01/31/22 23:17:30.764 432107] [shell.py:_shell_pop_print@35] Graphical python shell detected, using wrapped sys.stdout\n",
      "[Taichi] Starting on arch=cuda\n",
      "E: 5000.0\n",
      "dim: 3\n",
      "dt_quality: 1.0\n",
      "dtype: float32\n",
      "dynamic_box: False\n",
      "gravity: (0.0, -1.0, 0.0)\n",
      "grid_size: (1.0, 1.0, 1.0)\n",
      "ground_friction: 5.0\n",
      "ground_height: 3.0\n",
      "max_steps: 1024\n",
      "muscle_stiffness: 150.0\n",
      "n_particles: 20000\n",
      "nu: 0.2\n",
      "particle_contact: False\n",
      "quality: 1.0\n",
      "use_actuation: False\n",
      "yield_stress: 100.0\n",
      "{'width': (0.2, 0.2, 0.2), 'init_pos': (0.5, 0.1, 0.5), 'n_particles': 3000, 'color': 9868800}\n",
      "Building primitive\n",
      "action:\n",
      "  dim: 6\n",
      "  scale: (0.01, 0.01, 0.01, 0.01, 0.01, 0.01)\n",
      "color: (0.8, 0.8, 0.8)\n",
      "friction: 5.0\n",
      "init_pos: (0.25, 0.1, 0.5)\n",
      "init_rot: (1.0, 0.0, 0.0, 0.0)\n",
      "lower_bound: (-1.0, -1.0, -1.0)\n",
      "mass: 1.0\n",
      "round: 0.01\n",
      "shape: Box\n",
      "size: (0.05, 0.2, 0.2)\n",
      "stiffness: 0.0\n",
      "upper_bound: (2.0, 2.0, 2.0)\n",
      "variations: None\n",
      "Building primitive\n",
      "action:\n",
      "  dim: 6\n",
      "  scale: (0.01, 0.01, 0.01, 0.01, 0.01, 0.01)\n",
      "color: (0.8, 0.8, 0.8)\n",
      "friction: 5.0\n",
      "init_pos: (0.75, 0.1, 0.5)\n",
      "init_rot: (1.0, 0.0, 0.0, 0.0)\n",
      "lower_bound: (-1.0, -1.0, -1.0)\n",
      "mass: 1.0\n",
      "round: 0.01\n",
      "shape: Box\n",
      "size: (0.05, 0.2, 0.2)\n",
      "stiffness: 0.0\n",
      "upper_bound: (2.0, 2.0, 2.0)\n",
      "variations: None\n",
      "Initialize Renderer\n",
      "bake_size: 6  \n",
      "camera_pos: (0.5, 1.2, 4.0)  \n",
      "camera_rot: (0.2, 0)  \n",
      "dx: 0.006666666666666667  \n",
      "image_res: (512, 512)  \n",
      "light_direction: (1.0, 1.0, 0.0)  \n",
      "max_num_particles: 1000000  \n",
      "max_ray_depth: 2  \n",
      "sdf_threshold: 0.4144  \n",
      "spp: 50  \n",
      "target_res: (64, 64, 64)  \n",
      "use_directional_light: True  \n",
      "use_roulette: False  \n",
      "voxel_res: (168, 168, 168)\n",
      "initialize camera at (0.5, 1.2, 4.0) (0.2, 0)\n"
     ]
    }
   ],
   "source": [
    "from diffrl.env import DifferentiablePhysicsEnv, randp\n",
    "\n",
    "env = DifferentiablePhysicsEnv(\n",
    "    #cfg_path='configs/plb3d_particle_contact.yml',\n",
    "    cfg_path='configs/plb3d.yml',\n",
    "    task_cfg=dict(\n",
    "        TYPE=\"MoveObject\",\n",
    "        shape_metric=dict(chamfer=1., grid=0.),\n",
    "        ctrl_object_id=0,\n",
    "        childs=[\n",
    "            dict(\n",
    "                method='box',\n",
    "                shape_args=randp((0.2, 0.08, 0.08)),\n",
    "                center=dict(lower=(0.3, 0.4, 0.5),\n",
    "                            upper=(0.0, 0.0, 0.7))\n",
    "            ),\n",
    "            dict(\n",
    "                method='box',\n",
    "                shape_args=randp((0.2, 0.08, 0.08)),\n",
    "                center=dict(lower=(0.8, 0.4, 0.5),\n",
    "                            upper=(0.0, 0.0, 0.7))\n",
    "            ),\n",
    "            dict(\n",
    "                method='sphere',\n",
    "                center=(0.8, 0.2, 0.5),\n",
    "                shape_args=0.2\n",
    "            )\n",
    "        ],\n",
    "        dx=randp((0.0, -0.1, 0.0)),\n",
    "        rot=randp((0.9, 0.2, 0.5)),\n",
    "    ),\n",
    "    #task_cfg=dict(TYPE=\"MoveObject\"),\n",
    "    **{\n",
    "        \"manipulator_cfg.size\":\n",
    "        (0.05, 0.2, 0.2)\n",
    "    },\n",
    ")\n"
   ]
  },
  {
   "cell_type": "code",
   "execution_count": 3,
   "metadata": {
    "pycharm": {
     "name": "#%%\n"
    }
   },
   "outputs": [
    {
     "name": "stdout",
     "output_type": "stream",
     "text": [
      "[W 01/31/22 23:17:59.537 432107] [type_check.cpp:visit@70] [$7153] Atomic add (i64 to i32) may lose precision, at\n",
      "[W 01/31/22 23:17:59.537 432107] [type_check.cpp:visit@71] \n",
      "\n",
      "animating an.mp4\n",
      "Moviepy - Building video an.mp4.\n",
      "Moviepy - Writing video an.mp4\n",
      "\n"
     ]
    },
    {
     "name": "stderr",
     "output_type": "stream",
     "text": [
      "                                                             \r"
     ]
    },
    {
     "name": "stdout",
     "output_type": "stream",
     "text": [
      "Moviepy - Done !\n",
      "Moviepy - video ready an.mp4\n"
     ]
    },
    {
     "data": {
      "text/html": [
       "<video src=\"an.mp4\" controls  >\n",
       "      Your browser does not support the <code>video</code> element.\n",
       "    </video>"
      ],
      "text/plain": [
       "<IPython.core.display.Video object>"
      ]
     },
     "execution_count": 3,
     "metadata": {},
     "output_type": "execute_result"
    }
   ],
   "source": [
    "import numpy as np\n",
    "#env.reset()\n",
    "def loss(*args, **kwargs):\n",
    "    return 0\n",
    "env.set_loss_fn(loss)\n",
    "env.execute(env.get_state(), np.zeros((50, 12)), 'an.mp4')"
   ]
  },
  {
   "cell_type": "code",
   "execution_count": 4,
   "metadata": {
    "pycharm": {
     "name": "#%%\n"
    }
   },
   "outputs": [
    {
     "name": "stdout",
     "output_type": "stream",
     "text": [
      "start rendering goal..\n",
      "start rendering goal..\n",
      "start rendering goal..\n"
     ]
    },
    {
     "data": {
      "text/plain": [
       "<matplotlib.image.AxesImage at 0x7f1532a7c0b8>"
      ]
     },
     "execution_count": 4,
     "metadata": {},
     "output_type": "execute_result"
    },
    {
     "data": {
      "image/png": "[encoded data removed]",
      "text/plain": [
       "<Figure size 432x288 with 1 Axes>"
      ]
     },
     "metadata": {
      "needs_background": "light"
     },
     "output_type": "display_data"
    }
   ],
   "source": [
    "from tools import CN\n",
    "env.task._cfg.dx = (0., 0., 0.1)\n",
    "env.task.update_cfg(CN(dict(\n",
    "    ctrl_object_id=0,\n",
    "    shape_metric=dict(chamfer=1.,grid=0.),\n",
    "    childs=[\n",
    "        dict(\n",
    "            method='box',\n",
    "            shape_args=randp((0.08, 0.2, 0.08), (0.12, 0.23, 0.12)),\n",
    "            center=(0.3, 0.4, 0.5)\n",
    "        ),\n",
    "        dict(\n",
    "            method='sphere',\n",
    "            center=(0.8, 0.2, 0.5),\n",
    "            shape_args=0.1\n",
    "        )\n",
    "    ],\n",
    "    rot=randp((0.0, 0.0, 0.3), (0., 0., 1.1)),\n",
    "    #dx=randp((0.2, 0., 0.), (0.3, 0.01, 0.01)),\n",
    "    dx =(0.2, 0., 0.)\n",
    ")))\n",
    "env.reset()\n",
    "   \n",
    "\n",
    "import matplotlib.pylab as plt\n",
    "import numpy as np\n",
    "\n",
    "images = []\n",
    "for j in range(3):\n",
    "    env.reset()\n",
    "    img1 = env.render(mode='rgb_array')\n",
    "    img2 = env.task.render_goal(mode='rgb_array')\n",
    "    images.append(np.concatenate((img1, img2), axis=1))\n",
    "\n",
    "plt.imshow(np.concatenate(images, 0))"
   ]
  },
  {
   "cell_type": "code",
   "execution_count": 5,
   "metadata": {
    "pycharm": {
     "name": "#%%\n"
    }
   },
   "outputs": [
    {
     "name": "stdout",
     "output_type": "stream",
     "text": [
      "bg_weight: 1.0\n",
      "center:\n",
      "  lower: (0.5, 0.1, 0.5)\n",
      "  method: uniform\n",
      "  upper: None\n",
      "childs: [{'method': 'box', 'shape_args': CfgNode({'lower': (0.08, 0.2, 0.08), 'upper': (0.12, 0.23, 0.12), 'method': 'uniform'}), 'center': (0.3, 0.4, 0.5)}, {'method': 'sphere', 'center': (0.8, 0.2, 0.5), 'shape_args': 0.1}]\n",
      "contact_weight: 1.0\n",
      "ctrl_object_id: 0\n",
      "dx: (0.2, 0.0, 0.0)\n",
      "method: box\n",
      "n: None\n",
      "object_id: None\n",
      "rot:\n",
      "  lower: (0.0, 0.0, 0.3)\n",
      "  method: uniform\n",
      "  upper: (0.0, 0.0, 1.1)\n",
      "shape_args: None\n",
      "shape_metric:\n",
      "  center: 1.0\n",
      "  chamfer: 1.0\n",
      "  emd: 0.0\n",
      "  grid: 0.0\n",
      "shape_weight: 1.0\n"
     ]
    }
   ],
   "source": [
    "print(env.task._cfg)"
   ]
  },
  {
   "cell_type": "code",
   "execution_count": 6,
   "metadata": {
    "pycharm": {
     "name": "#%%\n"
    }
   },
   "outputs": [
    {
     "ename": "TypeError",
     "evalue": "reset() missing 1 required positional argument: 'requires_grad'",
     "output_type": "error",
     "traceback": [
      "\u001B[0;31m---------------------------------------------------------------------------\u001B[0m",
      "\u001B[0;31mTypeError\u001B[0m                                 Traceback (most recent call last)",
      "\u001B[0;32m/tmp/ipykernel_432107/3176787588.py\u001B[0m in \u001B[0;36m<module>\u001B[0;34m\u001B[0m\n\u001B[0;32m----> 1\u001B[0;31m out = env.solve(env.task.reset(env),\n\u001B[0m\u001B[1;32m      2\u001B[0m                 \u001B[0;34m[\u001B[0m\u001B[0menv\u001B[0m\u001B[0;34m.\u001B[0m\u001B[0mmanipulator\u001B[0m\u001B[0;34m.\u001B[0m\u001B[0mget_initial_action\u001B[0m\u001B[0;34m(\u001B[0m\u001B[0;34m)\u001B[0m \u001B[0;32mfor\u001B[0m \u001B[0mi\u001B[0m \u001B[0;32min\u001B[0m \u001B[0mrange\u001B[0m\u001B[0;34m(\u001B[0m\u001B[0;36m50\u001B[0m\u001B[0;34m)\u001B[0m\u001B[0;34m]\u001B[0m\u001B[0;34m,\u001B[0m\u001B[0;34m\u001B[0m\u001B[0;34m\u001B[0m\u001B[0m\n\u001B[1;32m      3\u001B[0m                 \u001B[0mrender_path\u001B[0m\u001B[0;34m=\u001B[0m\u001B[0;34m'tmp'\u001B[0m\u001B[0;34m,\u001B[0m\u001B[0;34m\u001B[0m\u001B[0;34m\u001B[0m\u001B[0m\n\u001B[1;32m      4\u001B[0m                 \u001B[0mrender_interval\u001B[0m\u001B[0;34m=\u001B[0m\u001B[0;36m50\u001B[0m\u001B[0;34m,\u001B[0m\u001B[0;34m\u001B[0m\u001B[0;34m\u001B[0m\u001B[0m\n\u001B[1;32m      5\u001B[0m                 max_iter=1000, lr=0.01)\n",
      "\u001B[0;31mTypeError\u001B[0m: reset() missing 1 required positional argument: 'requires_grad'"
     ]
    }
   ],
   "source": [
    "\n",
    "out = env.solve(env.task.reset(env, requires_grad=True),\n",
    "                [env.manipulator.get_initial_action() for i in range(50)],\n",
    "                render_path='tmp',\n",
    "                render_interval=50,\n",
    "                max_iter=1000, lr=0.01)\n"
   ]
  }
 ],
 "metadata": {
  "interpreter": {
   "hash": "24236117ad173cc854a0dd25003fea5af2f1994b54cc411799a7839c458fe3be"
  },
  "kernelspec": {
   "display_name": "Python 3.7.3 64-bit ('base': conda)",
   "language": "python",
   "name": "python3"
  },
  "language_info": {
   "codemirror_mode": {
    "name": "ipython",
    "version": 3
   },
   "file_extension": ".py",
   "mimetype": "text/x-python",
   "name": "python",
   "nbconvert_exporter": "python",
   "pygments_lexer": "ipython3",
   "version": "3.7.3"
  },
  "orig_nbformat": 4
 },
 "nbformat": 4,
 "nbformat_minor": 2
}