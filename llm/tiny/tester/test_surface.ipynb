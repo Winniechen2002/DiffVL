{
 "cells": [
  {
   "cell_type": "code",
   "execution_count": null,
   "metadata": {},
   "outputs": [],
   "source": [
    "%load_ext autoreload\n",
    "%autoreload 2"
   ]
  },
  {
   "cell_type": "code",
   "execution_count": null,
   "metadata": {},
   "outputs": [],
   "source": [
    "import os\n",
    "from llm import LLMPATH\n",
    "from llm.envs import MultiToolEnv\n",
    "from llm.optim import load_scene\n",
    "from llm.tiny import Scene\n",
    "\n",
    "\n",
    "state = load_scene(os.path.join(LLMPATH, 'optim/cfg/remove.yml'))\n",
    "env = MultiToolEnv()\n",
    "env.set_state(state)\n"
   ]
  },
  {
   "cell_type": "code",
   "execution_count": null,
   "metadata": {},
   "outputs": [],
   "source": [
    "scene = Scene(env)\n",
    "obj = scene.obj(0)"
   ]
  },
  {
   "cell_type": "code",
   "execution_count": null,
   "metadata": {},
   "outputs": [],
   "source": [
    "import numpy as np\n",
    "import pyvista\n",
    "\n",
    "\n",
    "\n",
    "\n",
    "def plot(pcd, r=0.012):\n",
    "    pdata = pyvista.PolyData(pcd)\n",
    "    pdata['orig_sphere'] = np.arange(len(pcd))\n",
    "\n",
    "    sphere = pyvista.Sphere(radius=r, phi_resolution=10, theta_resolution=10)\n",
    "    pc = pdata.glyph(scale=False, geom=sphere, orient=False)\n",
    "    return pc.plot(jupyter_backend='pythreejs')\n",
    "\n",
    "point_cloud = obj.pcd().detach().cpu().numpy()\n",
    "plot(point_cloud, r=0.005)"
   ]
  },
  {
   "cell_type": "code",
   "execution_count": null,
   "metadata": {},
   "outputs": [],
   "source": [
    "surface = obj.surface()\n",
    "print(obj.N(), surface.N())"
   ]
  },
  {
   "cell_type": "code",
   "execution_count": null,
   "metadata": {},
   "outputs": [],
   "source": [
    "plot(surface.pcd().detach().cpu().numpy(), r=0.005)"
   ]
  }
 ],
 "metadata": {
  "kernelspec": {
   "display_name": "Python 3.9.12 ('base')",
   "language": "python",
   "name": "python3"
  },
  "language_info": {
   "codemirror_mode": {
    "name": "ipython",
    "version": 3
   },
   "file_extension": ".py",
   "mimetype": "text/x-python",
   "name": "python",
   "nbconvert_exporter": "python",
   "pygments_lexer": "ipython3",
   "version": "3.9.12"
  },
  "orig_nbformat": 4,
  "vscode": {
   "interpreter": {
    "hash": "24236117ad173cc854a0dd25003fea5af2f1994b54cc411799a7839c458fe3be"
   }
  }
 },
 "nbformat": 4,
 "nbformat_minor": 2
}
