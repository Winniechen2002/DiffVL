{
 "cells": [
  {
   "cell_type": "code",
   "execution_count": null,
   "metadata": {},
   "outputs": [],
   "source": [
    "%load_ext autoreload\n",
    "%autoreload 2"
   ]
  },
  {
   "cell_type": "code",
   "execution_count": null,
   "metadata": {},
   "outputs": [],
   "source": [
    "from llm.pl.tester.integer import test, int_dsl as dsl\n",
    "from llm.learn.codegpt import CodeNet\n",
    "from llm.learn.serialize import deserialize, extract_code\n",
    "\n",
    "#codenet = CodeNet.from_dsl(dsl).to('cuda:0')\n",
    "codenet = CodeNet.from_pretrained('../tmp_trainer').to('cuda:0')"
   ]
  },
  {
   "cell_type": "code",
   "execution_count": null,
   "metadata": {},
   "outputs": [],
   "source": [
    "print(codenet.config)"
   ]
  },
  {
   "cell_type": "code",
   "execution_count": null,
   "metadata": {},
   "outputs": [],
   "source": [
    "from llm.pl.tester.integer import incr, decr\n",
    "\n",
    "codes = [test, incr, decr]\n",
    "data = codenet.tokenizer.batchify(codes)"
   ]
  },
  {
   "cell_type": "code",
   "execution_count": null,
   "metadata": {},
   "outputs": [],
   "source": [
    "tokenizer = codenet.tokenizer\n",
    "for idx, i in enumerate(codes):\n",
    "    A = str(extract_code(i))\n",
    "    B = str(deserialize(tokenizer.decode(data['input_ids'][idx])))\n",
    "    assert A == B"
   ]
  },
  {
   "cell_type": "code",
   "execution_count": null,
   "metadata": {},
   "outputs": [],
   "source": [
    "codenet.lm.transformer.wpe = None\n",
    "codenet.lm.transformer.wte = None\n",
    "output = codenet(**data)\n",
    "# print(output)"
   ]
  },
  {
   "cell_type": "code",
   "execution_count": null,
   "metadata": {},
   "outputs": [],
   "source": [
    "#len(output['past_key_values'])\n",
    "#print(output.logits.shape)\n",
    "output.logits.argmax(axis=-1)"
   ]
  },
  {
   "cell_type": "code",
   "execution_count": null,
   "metadata": {},
   "outputs": [],
   "source": [
    "from llm.learn.codegpt import SampleState\n",
    "\n",
    "state = SampleState.new(1)\n",
    "for i in range(34):\n",
    "    state = codenet.next(state, tokens=None, sample_mode='BEST')\n",
    "state = SampleState.new(1)\n",
    "for i in range(40):\n",
    "    tokens = ['car'] if i == 2 else None\n",
    "    # tokens = None\n",
    "    state = codenet.next(state, tokens=tokens, sample_mode='BEST')\n",
    "\n",
    "assert str(state.codes[0]) == str(extract_code(test))\n",
    "\n",
    "print(state.codes[0])\n",
    "print(state.codes[0].serialize())"
   ]
  }
 ],
 "metadata": {
  "kernelspec": {
   "display_name": "Python 3.9.12 ('py39')",
   "language": "python",
   "name": "python3"
  },
  "language_info": {
   "codemirror_mode": {
    "name": "ipython",
    "version": 3
   },
   "file_extension": ".py",
   "mimetype": "text/x-python",
   "name": "python",
   "nbconvert_exporter": "python",
   "pygments_lexer": "ipython3",
   "version": "3.9.12"
  },
  "orig_nbformat": 4,
  "vscode": {
   "interpreter": {
    "hash": "fddca514e2827b95124bdcec510f50d1fb54b4e8b9793e23e9bd9a10394dd7ae"
   }
  }
 },
 "nbformat": 4,
 "nbformat_minor": 2
}
